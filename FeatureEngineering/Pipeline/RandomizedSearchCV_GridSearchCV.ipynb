{
 "cells": [
  {
   "cell_type": "code",
   "execution_count": 0,
   "metadata": {
    "colab": {},
    "colab_type": "code",
    "id": "iWuzCQLW3wXF"
   },
   "outputs": [],
   "source": [
    "%matplotlib inline"
   ]
  },
  {
   "cell_type": "code",
   "execution_count": 1,
   "metadata": {
    "colab": {},
    "colab_type": "code",
    "id": "p2MVdy__3wXM"
   },
   "outputs": [],
   "source": [
    "import numpy as np\n",
    "from time import time\n",
    "from scipy.stats import randint as sp_randint\n",
    "from sklearn.model_selection import GridSearchCV\n",
    "from sklearn.model_selection import RandomizedSearchCV\n",
    "from sklearn.datasets import load_digits\n",
    "from sklearn.ensemble import RandomForestClassifier"
   ]
  },
  {
   "cell_type": "code",
   "execution_count": 2,
   "metadata": {
    "colab": {},
    "colab_type": "code",
    "id": "bfdKxeQF3wXR"
   },
   "outputs": [],
   "source": [
    "# get data\n",
    "digits = load_digits()  # Source : http://archive.ics.uci.edu/ml/datasets/Pen-Based+Recognition+of+Handwritten+Digits\n",
    "X, y = digits.data, digits.target"
   ]
  },
  {
   "cell_type": "code",
   "execution_count": 3,
   "metadata": {
    "colab": {},
    "colab_type": "code",
    "id": "EDAhL7Yc3wXY"
   },
   "outputs": [],
   "source": [
    "# build a classifier\n",
    "clf = RandomForestClassifier(n_estimators=50)"
   ]
  },
  {
   "cell_type": "code",
   "execution_count": 4,
   "metadata": {
    "colab": {},
    "colab_type": "code",
    "id": "wY-kKYFd3wXb"
   },
   "outputs": [],
   "source": [
    "# specify parameters and distributions to sample from\n",
    "param_dist = {\"max_depth\": [3, None],\n",
    "              \"max_features\": sp_randint(1, 11),\n",
    "              \"min_samples_split\": sp_randint(2, 11),\n",
    "              \"min_samples_leaf\": sp_randint(1, 11),\n",
    "              \"bootstrap\": [True, False],\n",
    "              \"criterion\": [\"gini\", \"entropy\"]}"
   ]
  },
  {
   "cell_type": "code",
   "execution_count": 5,
   "metadata": {
    "colab": {},
    "colab_type": "code",
    "id": "HsdZfVy43wXe"
   },
   "outputs": [],
   "source": [
    "# run randomized search\n",
    "samples = 10  # number of random samples \n",
    "randomCV = RandomizedSearchCV(clf, param_distributions=param_dist, n_iter=samples) #default cv = 3"
   ]
  },
  {
   "cell_type": "code",
   "execution_count": 6,
   "metadata": {
    "colab": {},
    "colab_type": "code",
    "id": "FnDYMJxz3wXi",
    "outputId": "c6ac3a88-6eb7-4cc8-a241-82d89b7d4307"
   },
   "outputs": [
    {
     "name": "stdout",
     "output_type": "stream",
     "text": [
      "{'bootstrap': False, 'criterion': 'gini', 'max_depth': None, 'max_features': 3, 'min_samples_leaf': 1, 'min_samples_split': 10}\n"
     ]
    }
   ],
   "source": [
    "randomCV.fit(X, y)\n",
    "\n",
    " \n",
    "print(randomCV.best_params_)\n"
   ]
  },
  {
   "cell_type": "code",
   "execution_count": 7,
   "metadata": {
    "colab": {},
    "colab_type": "code",
    "id": "BYAjFmNl3wXm"
   },
   "outputs": [],
   "source": [
    "# use a full grid over all parameters\n",
    "param_grid = {\"max_depth\": [3, None],\n",
    "              \"max_features\": [1, 3, 10],\n",
    "              \"min_samples_split\": [2, 3, 10],\n",
    "              \"min_samples_leaf\": [1, 3, 10],\n",
    "              \"bootstrap\": [True, False],\n",
    "              \"criterion\": [\"gini\", \"entropy\"]}"
   ]
  },
  {
   "cell_type": "code",
   "execution_count": 8,
   "metadata": {
    "colab": {},
    "colab_type": "code",
    "id": "flbwV9CY3wXp",
    "outputId": "27b96b5b-4368-4fe6-c1c1-8d7213324915"
   },
   "outputs": [
    {
     "data": {
      "text/plain": [
       "GridSearchCV(estimator=RandomForestClassifier(n_estimators=50),\n",
       "             param_grid={'bootstrap': [True, False],\n",
       "                         'criterion': ['gini', 'entropy'],\n",
       "                         'max_depth': [3, None], 'max_features': [1, 3, 10],\n",
       "                         'min_samples_leaf': [1, 3, 10],\n",
       "                         'min_samples_split': [2, 3, 10]})"
      ]
     },
     "execution_count": 8,
     "metadata": {},
     "output_type": "execute_result"
    }
   ],
   "source": [
    "# run grid search\n",
    "grid_search = GridSearchCV(clf, param_grid=param_grid)\n",
    "start = time()\n",
    "grid_search.fit(X, y)"
   ]
  },
  {
   "cell_type": "code",
   "execution_count": 9,
   "metadata": {
    "colab": {},
    "colab_type": "code",
    "id": "VexE_JsR3wXs",
    "outputId": "3f6a08ba-ffa7-4b89-9f38-1262abb69f15"
   },
   "outputs": [
    {
     "data": {
      "text/plain": [
       "{'bootstrap': False,\n",
       " 'criterion': 'gini',\n",
       " 'max_depth': None,\n",
       " 'max_features': 10,\n",
       " 'min_samples_leaf': 1,\n",
       " 'min_samples_split': 2}"
      ]
     },
     "execution_count": 9,
     "metadata": {},
     "output_type": "execute_result"
    }
   ],
   "source": [
    "grid_search.best_params_"
   ]
  },
  {
   "cell_type": "code",
   "execution_count": 10,
   "metadata": {
    "colab": {},
    "colab_type": "code",
    "id": "_EjiJe6E3wXv",
    "outputId": "9854d20b-c116-4c6a-bf22-97e1d46c64b1"
   },
   "outputs": [
    {
     "data": {
      "text/plain": [
       "array([0.81246828, 0.83697307, 0.81916435, 0.7991628 , 0.80971526,\n",
       "       0.82303312, 0.81640359, 0.81581244, 0.81136955, 0.83193903,\n",
       "       0.8330455 , 0.83918137, 0.84752708, 0.81914113, 0.82918137,\n",
       "       0.84196379, 0.83137728, 0.82526153, 0.82305478, 0.80301145,\n",
       "       0.82137574, 0.83194212, 0.82750696, 0.81747601, 0.84586041,\n",
       "       0.81692974, 0.82581863, 0.92601207, 0.92489632, 0.91041473,\n",
       "       0.90819406, 0.91765552, 0.90042402, 0.88483751, 0.87647168,\n",
       "       0.88871402, 0.93546116, 0.93157536, 0.92878985, 0.92878521,\n",
       "       0.93156763, 0.92655989, 0.90430053, 0.91264469, 0.89985299,\n",
       "       0.93379604, 0.93324048, 0.92378675, 0.92878675, 0.92378366,\n",
       "       0.92377747, 0.90819406, 0.90708604, 0.90763695, 0.81971835,\n",
       "       0.79691736, 0.80635871, 0.82531724, 0.81915661, 0.7957784 ,\n",
       "       0.81023522, 0.80469359, 0.79412102, 0.83419375, 0.83028165,\n",
       "       0.84030486, 0.83809037, 0.83696688, 0.84031105, 0.84921387,\n",
       "       0.84698391, 0.84029248, 0.83083256, 0.83251006, 0.8319282 ,\n",
       "       0.82304704, 0.82025998, 0.83585113, 0.82805478, 0.83973692,\n",
       "       0.82583565, 0.9209966 , 0.93490096, 0.91820799, 0.90653049,\n",
       "       0.90597957, 0.90485763, 0.8798143 , 0.8926091 , 0.88592077,\n",
       "       0.93380378, 0.92544259, 0.93157382, 0.92601052, 0.92878366,\n",
       "       0.92266326, 0.9026385 , 0.90206592, 0.91208759, 0.93491179,\n",
       "       0.93880842, 0.92155989, 0.92935314, 0.92935159, 0.92100743,\n",
       "       0.91321572, 0.9076416 , 0.91265088, 0.82250077, 0.80636955,\n",
       "       0.816368  , 0.81359331, 0.81525379, 0.82416744, 0.83696379,\n",
       "       0.83250077, 0.81580625, 0.84419684, 0.82526462, 0.83808264,\n",
       "       0.84809811, 0.82360105, 0.83860415, 0.84642835, 0.85586196,\n",
       "       0.83751934, 0.81916435, 0.81079851, 0.80136181, 0.82415816,\n",
       "       0.80969359, 0.82803931, 0.82024605, 0.8152476 , 0.81024296,\n",
       "       0.93713092, 0.93378521, 0.92266481, 0.91822191, 0.91431445,\n",
       "       0.91597957, 0.89206438, 0.89038223, 0.89761374, 0.93881151,\n",
       "       0.93935469, 0.93046735, 0.93546735, 0.93157227, 0.93713092,\n",
       "       0.9165506 , 0.92265862, 0.91153049, 0.94436397, 0.93991798,\n",
       "       0.93213556, 0.93435624, 0.93101517, 0.92878521, 0.91265552,\n",
       "       0.91598731, 0.91322656, 0.81027236, 0.82805942, 0.80245899,\n",
       "       0.8213649 , 0.82025843, 0.80414268, 0.79801145, 0.80915506,\n",
       "       0.8135995 , 0.8391953 , 0.84143145, 0.83639121, 0.83140669,\n",
       "       0.8341953 , 0.83305169, 0.81638657, 0.84418137, 0.83082173,\n",
       "       0.82916435, 0.82585268, 0.80634014, 0.8213974 , 0.81803002,\n",
       "       0.81467967, 0.82305323, 0.8235995 , 0.81693593, 0.93434695,\n",
       "       0.93101981, 0.93100898, 0.91654441, 0.91765243, 0.91097493,\n",
       "       0.88814144, 0.87814299, 0.89205973, 0.93824513, 0.93713092,\n",
       "       0.93268647, 0.93658929, 0.93268493, 0.92991024, 0.91932064,\n",
       "       0.91264624, 0.91154287, 0.93880378, 0.9421402 , 0.93435778,\n",
       "       0.92824358, 0.92879449, 0.92711854, 0.91321418, 0.91599505,\n",
       "       0.9109935 ])"
      ]
     },
     "execution_count": 10,
     "metadata": {},
     "output_type": "execute_result"
    }
   ],
   "source": [
    "grid_search.cv_results_['mean_test_score']"
   ]
  },
  {
   "cell_type": "code",
   "execution_count": 11,
   "metadata": {
    "colab": {},
    "colab_type": "code",
    "id": "Qn-_f2f-3wXy",
    "outputId": "7fe5efb0-7143-49d3-e4d9-630aa0c833c7"
   },
   "outputs": [
    {
     "data": {
      "text/plain": [
       "RandomForestClassifier(bootstrap=False, max_features=10, n_estimators=50)"
      ]
     },
     "execution_count": 11,
     "metadata": {},
     "output_type": "execute_result"
    }
   ],
   "source": [
    "grid_search.best_estimator_"
   ]
  },
  {
   "cell_type": "code",
   "execution_count": 0,
   "metadata": {
    "colab": {},
    "colab_type": "code",
    "id": "W7oP6_oS3wX0"
   },
   "outputs": [],
   "source": []
  }
 ],
 "metadata": {
  "colab": {
   "name": "RandomizedSearchCV_GridSearchCV.ipynb",
   "provenance": [],
   "version": "0.3.2"
  },
  "kernelspec": {
   "display_name": "Python 3",
   "language": "python",
   "name": "python3"
  },
  "language_info": {
   "codemirror_mode": {
    "name": "ipython",
    "version": 3
   },
   "file_extension": ".py",
   "mimetype": "text/x-python",
   "name": "python",
   "nbconvert_exporter": "python",
   "pygments_lexer": "ipython3",
   "version": "3.7.6"
  }
 },
 "nbformat": 4,
 "nbformat_minor": 1
}
