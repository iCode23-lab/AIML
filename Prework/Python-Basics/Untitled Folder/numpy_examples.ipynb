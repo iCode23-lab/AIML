{
 "cells": [
  {
   "cell_type": "code",
   "execution_count": 1,
   "metadata": {},
   "outputs": [
    {
     "name": "stdout",
     "output_type": "stream",
     "text": [
      "-1.0\n",
      "1.1\n",
      "5.2\n"
     ]
    }
   ],
   "source": [
    "import numpy as np\n",
    "\n",
    "cosine = np.cos(np.pi)\n",
    "print(cosine)\n",
    "print(np.sqrt(1.21))\n",
    "print(np.log(np.exp(5.2)))"
   ]
  },
  {
   "cell_type": "code",
   "execution_count": 5,
   "metadata": {},
   "outputs": [
    {
     "name": "stdout",
     "output_type": "stream",
     "text": [
      "[1 2 3]\n",
      "[[1 2 1]\n",
      " [4 5 8]\n",
      " [3 2 1]]\n",
      "\n",
      "[[1 4 3]\n",
      " [2 5 2]\n",
      " [1 8 1]]\n"
     ]
    }
   ],
   "source": [
    "#create numpy array using list, which is vector\n",
    "vec = np.array([1,2,3])\n",
    "print(vec)\n",
    "\n",
    "#create martices using numpy\n",
    "mat = np.array([[1,2,1],[4,5,8],[3,2,1]])\n",
    "print(mat)\n",
    "print('')\n",
    "print(mat.T)"
   ]
  },
  {
   "cell_type": "code",
   "execution_count": 7,
   "metadata": {},
   "outputs": [
    {
     "name": "stdout",
     "output_type": "stream",
     "text": [
      "[ 0  1  2  3  4  5  6  7  8  9 10 11 12 13 14]\n",
      "\n",
      "[ 3  9 15]\n"
     ]
    }
   ],
   "source": [
    "#other ways to create array using arange\n",
    "vec2 = np.arange(0,15)\n",
    "print(vec2)\n",
    "print('')\n",
    "\n",
    "vec3 = np.arange(3,21,6)\n",
    "print(vec3)"
   ]
  },
  {
   "cell_type": "code",
   "execution_count": 16,
   "metadata": {},
   "outputs": [
    {
     "name": "stdout",
     "output_type": "stream",
     "text": [
      "[0.         0.55555556 1.11111111 1.66666667 2.22222222 2.77777778\n",
      " 3.33333333 3.88888889 4.44444444 5.        ]\n",
      "[[0.         0.55555556]\n",
      " [1.11111111 1.66666667]\n",
      " [2.22222222 2.77777778]\n",
      " [3.33333333 3.88888889]\n",
      " [4.44444444 5.        ]]\n",
      "[0.         0.55555556 1.11111111 1.66666667 2.22222222 2.77777778\n",
      " 3.33333333 3.88888889 4.44444444 5.        ]\n",
      "[[0. 0. 0.]\n",
      " [0. 0. 0.]\n",
      " [0. 0. 0.]\n",
      " [0. 0. 0.]\n",
      " [0. 0. 0.]]\n",
      "[[1. 1. 1.]\n",
      " [1. 1. 1.]\n",
      " [1. 1. 1.]\n",
      " [1. 1. 1.]\n",
      " [1. 1. 1.]]\n",
      "[[1. 0. 0. 0. 0.]\n",
      " [0. 1. 0. 0. 0.]\n",
      " [0. 0. 1. 0. 0.]\n",
      " [0. 0. 0. 1. 0.]\n",
      " [0. 0. 0. 0. 1.]]\n"
     ]
    }
   ],
   "source": [
    "vec4 = np.linspace(0,5,10)\n",
    "print(vec4)\n",
    "\n",
    "vec_reshape = vec4.reshape(5,2)\n",
    "print(vec_reshape)\n",
    "print(vec4)\n",
    "mat2 = np.zeros([5,3])\n",
    "print(mat2)\n",
    "mat3 = np.ones([5,3])\n",
    "print(mat3)\n",
    "mat4 = np.eye(5)\n",
    "print(mat4)\n"
   ]
  },
  {
   "cell_type": "code",
   "execution_count": 17,
   "metadata": {},
   "outputs": [
    {
     "name": "stdout",
     "output_type": "stream",
     "text": [
      "[1 2 3 4 5]\n",
      "[3 4 5 6 7]\n",
      "[ 4  6  8 10 12]\n",
      "[ 3  8 15 24 35]\n",
      "[1.         0.5        0.33333333 0.25       0.2       ]\n",
      "[1.73205081 2.         2.23606798 2.44948974 2.64575131]\n"
     ]
    }
   ],
   "source": [
    "# we can +-*/ arrays together if they're the right size\n",
    "vec5 = np.arange(1,6)\n",
    "vec6 = np.arange(3,8)\n",
    "print(vec5)\n",
    "print(vec6)\n",
    "print(vec5+vec6)\n",
    "print(vec5*vec6)\n",
    "print(1/vec5)\n",
    "print(np.sqrt(vec6))"
   ]
  },
  {
   "cell_type": "code",
   "execution_count": 18,
   "metadata": {},
   "outputs": [
    {
     "name": "stdout",
     "output_type": "stream",
     "text": [
      "[[1 2 1]\n",
      " [4 5 8]\n",
      " [3 2 1]]\n",
      "\n",
      "[1 2 3]\n",
      "\n",
      "[ 8 38 10]\n"
     ]
    }
   ],
   "source": [
    "#matric multiplication\n",
    "print(mat)\n",
    "print('')\n",
    "print(vec)\n",
    "print('')\n",
    "product = np.matmul(mat,vec)\n",
    "print(product)"
   ]
  },
  {
   "cell_type": "code",
   "execution_count": 20,
   "metadata": {},
   "outputs": [
    {
     "name": "stdout",
     "output_type": "stream",
     "text": [
      "[1. 2. 3.]\n",
      "\n",
      "[[-5.00000000e-01  4.16333634e-17  5.00000000e-01]\n",
      " [ 9.09090909e-01 -9.09090909e-02 -1.81818182e-01]\n",
      " [-3.18181818e-01  1.81818182e-01 -1.36363636e-01]]\n"
     ]
    }
   ],
   "source": [
    "print(np.linalg.solve(mat, product))\n",
    "print('')\n",
    "print(np.linalg.inv(mat))"
   ]
  },
  {
   "cell_type": "code",
   "execution_count": 21,
   "metadata": {},
   "outputs": [
    {
     "name": "stdout",
     "output_type": "stream",
     "text": [
      "['blue' 'red' 'orange' 'purple' 'purple' 'orange' 'red' '6']\n",
      "['6' 'blue' 'orange' 'purple' 'red']\n"
     ]
    }
   ],
   "source": [
    "#find unique values from array\n",
    "vec7 = np.array(['blue', 'red', 'orange', 'purple','purple','orange','red',6])\n",
    "print(vec7)\n",
    "print(np.unique(vec7))"
   ]
  },
  {
   "cell_type": "code",
   "execution_count": 23,
   "metadata": {},
   "outputs": [
    {
     "name": "stdout",
     "output_type": "stream",
     "text": [
      "[[0.78038551 0.95533489 0.79018509 0.48314291 0.56990375]\n",
      " [0.89103375 0.84086027 0.19579285 0.39340715 0.9082052 ]\n",
      " [0.0550474  0.24701512 0.53906046 0.7580052  0.8398436 ]\n",
      " [0.33213665 0.64268508 0.57348013 0.29799943 0.11242188]\n",
      " [0.64951647 0.64988107 0.47209524 0.28794221 0.67013866]]\n",
      "[[-1.68538538  2.42841147  0.51500811  0.37863073  0.19500524]\n",
      " [-0.08375247  0.82761359  0.37026075  0.47986546 -0.35920741]\n",
      " [ 0.52922486  0.28349713 -0.02719864  1.13708426 -0.55882749]\n",
      " [-2.07604315 -0.66840431  1.25370244  0.92439497  1.35867195]\n",
      " [ 0.99686184 -0.33851152 -0.73473505  0.30576196 -1.09532433]]\n"
     ]
    }
   ],
   "source": [
    "#use numpy to create samples\n",
    "rand_mat = np.random.rand(5,5) #uniform random variables\n",
    "print(rand_mat)\n",
    "\n",
    "rand_mat2 = np.random.randn(5,5) #standard random variables\n",
    "print(rand_mat2)\n"
   ]
  },
  {
   "cell_type": "code",
   "execution_count": 24,
   "metadata": {},
   "outputs": [
    {
     "name": "stdout",
     "output_type": "stream",
     "text": [
      "0.5574207991116994\n",
      "0.9705727784190276\n"
     ]
    }
   ],
   "source": [
    "#statistical tools\n",
    "print(np.mean(rand_mat))\n",
    "print(np.std(rand_mat2))"
   ]
  },
  {
   "cell_type": "code",
   "execution_count": 26,
   "metadata": {},
   "outputs": [
    {
     "name": "stdout",
     "output_type": "stream",
     "text": [
      "0.05504740300519162\n",
      "2.4284114673679067\n"
     ]
    }
   ],
   "source": [
    "print(np.min(rand_mat))\n",
    "print(np.max(rand_mat2))"
   ]
  },
  {
   "cell_type": "code",
   "execution_count": null,
   "metadata": {},
   "outputs": [],
   "source": []
  }
 ],
 "metadata": {
  "kernelspec": {
   "display_name": "Python 3",
   "language": "python",
   "name": "python3"
  },
  "language_info": {
   "codemirror_mode": {
    "name": "ipython",
    "version": 3
   },
   "file_extension": ".py",
   "mimetype": "text/x-python",
   "name": "python",
   "nbconvert_exporter": "python",
   "pygments_lexer": "ipython3",
   "version": "3.7.6"
  }
 },
 "nbformat": 4,
 "nbformat_minor": 4
}
