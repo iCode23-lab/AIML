{
 "cells": [
  {
   "cell_type": "code",
   "execution_count": 12,
   "metadata": {},
   "outputs": [
    {
     "name": "stdout",
     "output_type": "stream",
     "text": [
      "['Learning', 'Python', 'is fun?', 'true']\n",
      "['learning', 'for life', 'true']\n",
      "['Learning', 'Python', 'is fun?', 'true', '10']\n",
      "['Learning', 'Python', 'is fun?', 'true']\n"
     ]
    }
   ],
   "source": [
    "import np as numpy\n",
    "\n",
    "#List\n",
    "l1 = ['Learning', 'Python', 'is fun?','true']\n",
    "print(l1)\n",
    "\n",
    "#can also create list using list()\n",
    "l2 = list(('learning', 'for life', 'true'))\n",
    "print(l2)\n",
    "\n",
    "#add to a list\n",
    "l1.append('10')\n",
    "print(l1)\n",
    "\n",
    "l1.remove('10')\n",
    "print(l1)"
   ]
  },
  {
   "cell_type": "code",
   "execution_count": 13,
   "metadata": {},
   "outputs": [
    {
     "name": "stdout",
     "output_type": "stream",
     "text": [
      "['Learning', 'Python', 'is fun?', 'true', 'learning', 'for life', 'true']\n",
      "None\n"
     ]
    }
   ],
   "source": [
    "print(l1+l2)\n",
    "\n",
    "print(l1.extend(l2))"
   ]
  },
  {
   "cell_type": "code",
   "execution_count": 24,
   "metadata": {},
   "outputs": [
    {
     "name": "stdout",
     "output_type": "stream",
     "text": [
      "sum : 20\n",
      "Length :  4\n",
      "Max :  8\n",
      "Min : 2\n",
      "Count :  2\n"
     ]
    }
   ],
   "source": [
    "l3 = [2,4,6,8]\n",
    "print('sum :', sum(l3))\n",
    "print('Length : ',len(l3))\n",
    "print('Max : ', max(l3))\n",
    "print('Min :', min(l3))\n",
    "\n",
    "l3 += [0,1,3,3,5,5,7,9]\n",
    "print('Count : ', l3.count(3))\n"
   ]
  },
  {
   "cell_type": "code",
   "execution_count": 35,
   "metadata": {},
   "outputs": [
    {
     "name": "stdout",
     "output_type": "stream",
     "text": [
      "[9, 8, 7, 6, 5, 5, 4, 3, 3, 2, 1, 0]\n",
      "Sort asceding order :  [0, 1, 2, 3, 3, 4, 5, 5, 6, 7, 8, 9]\n",
      "Sort descending order :  [9, 8, 7, 6, 5, 5, 4, 3, 3, 2, 1, 0]\n"
     ]
    }
   ],
   "source": [
    "print(l3)\n",
    "l3.sort(reverse=False)\n",
    "print('Sort asceding order : ', l3)\n",
    "l3.sort(reverse=True)\n",
    "print('Sort descending order : ', l3)"
   ]
  },
  {
   "cell_type": "code",
   "execution_count": 40,
   "metadata": {},
   "outputs": [
    {
     "name": "stdout",
     "output_type": "stream",
     "text": [
      "Sum three values :  10\n",
      "Sum of three values :  60\n"
     ]
    }
   ],
   "source": [
    "def sumValues(a,b,c): \n",
    "    return a+b+c\n",
    "\n",
    "print('Sum three values : ', sumValues(2,3,5))\n",
    "\n",
    "def sum3(a,b,c):\n",
    "    return a+b+c\n",
    "\n",
    "print('Sum of three values : ', sum3(10,20,30))"
   ]
  },
  {
   "cell_type": "code",
   "execution_count": 41,
   "metadata": {},
   "outputs": [
    {
     "data": {
      "text/plain": [
       "6"
      ]
     },
     "execution_count": 41,
     "metadata": {},
     "output_type": "execute_result"
    }
   ],
   "source": [
    "f = lambda a,b,c:a+b+c\n",
    "f(1,2,3)"
   ]
  },
  {
   "cell_type": "code",
   "execution_count": 42,
   "metadata": {},
   "outputs": [
    {
     "name": "stdout",
     "output_type": "stream",
     "text": [
      "[0, 1, 4, 9, 16, 25, 36, 49, 64, 81]\n"
     ]
    }
   ],
   "source": [
    "#List comprehension\n",
    "squares = [x**2 for x in range(10)]\n",
    "print(squares)"
   ]
  },
  {
   "cell_type": "code",
   "execution_count": 44,
   "metadata": {},
   "outputs": [
    {
     "name": "stdout",
     "output_type": "stream",
     "text": [
      "['0', '1', '4', '9', '16', '25', '36', '49', '64', '81']\n",
      "[<class 'int'>, <class 'int'>, <class 'int'>, <class 'int'>, <class 'int'>, <class 'int'>, <class 'int'>, <class 'int'>, <class 'int'>, <class 'int'>]\n"
     ]
    }
   ],
   "source": [
    "L = [str(c) for c in squares]\n",
    "print(L)\n",
    "\n",
    "LT = [type(c) for c in squares]\n",
    "print(LT)"
   ]
  },
  {
   "cell_type": "code",
   "execution_count": null,
   "metadata": {},
   "outputs": [],
   "source": []
  }
 ],
 "metadata": {
  "kernelspec": {
   "display_name": "Python 3",
   "language": "python",
   "name": "python3"
  },
  "language_info": {
   "codemirror_mode": {
    "name": "ipython",
    "version": 3
   },
   "file_extension": ".py",
   "mimetype": "text/x-python",
   "name": "python",
   "nbconvert_exporter": "python",
   "pygments_lexer": "ipython3",
   "version": "3.7.6"
  }
 },
 "nbformat": 4,
 "nbformat_minor": 4
}
